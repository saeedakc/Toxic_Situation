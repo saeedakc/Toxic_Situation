{
 "cells": [
  {
   "cell_type": "code",
   "execution_count": 1,
   "metadata": {},
   "outputs": [],
   "source": [
    "# Dependencies and Setup\n",
    "import matplotlib.pyplot as plt\n",
    "import pandas as pd\n",
    "import numpy as np\n",
    "import requests\n",
    "import time\n",
    "from scipy.stats import linregress\n",
    "from scipy.stats import stats\n",
    "from pprint import pprint\n",
    "import json\n",
    "from pylab import rcParams\n"
   ]
  },
  {
   "cell_type": "markdown",
   "metadata": {},
   "source": [
    "## Population Analysis"
   ]
  },
  {
   "cell_type": "code",
   "execution_count": 2,
   "metadata": {},
   "outputs": [
    {
     "data": {
      "text/html": [
       "<div>\n",
       "<style scoped>\n",
       "    .dataframe tbody tr th:only-of-type {\n",
       "        vertical-align: middle;\n",
       "    }\n",
       "\n",
       "    .dataframe tbody tr th {\n",
       "        vertical-align: top;\n",
       "    }\n",
       "\n",
       "    .dataframe thead th {\n",
       "        text-align: right;\n",
       "    }\n",
       "</style>\n",
       "<table border=\"1\" class=\"dataframe\">\n",
       "  <thead>\n",
       "    <tr style=\"text-align: right;\">\n",
       "      <th></th>\n",
       "      <th>West Coast Population</th>\n",
       "      <th>East Coast Population</th>\n",
       "    </tr>\n",
       "  </thead>\n",
       "  <tbody>\n",
       "    <tr>\n",
       "      <td>2014</td>\n",
       "      <td>51990562</td>\n",
       "      <td>142194048</td>\n",
       "    </tr>\n",
       "    <tr>\n",
       "      <td>2015</td>\n",
       "      <td>52514181</td>\n",
       "      <td>143606904</td>\n",
       "    </tr>\n",
       "    <tr>\n",
       "      <td>2016</td>\n",
       "      <td>51860147</td>\n",
       "      <td>144608014</td>\n",
       "    </tr>\n",
       "    <tr>\n",
       "      <td>2017</td>\n",
       "      <td>52338164</td>\n",
       "      <td>146084866</td>\n",
       "    </tr>\n",
       "    <tr>\n",
       "      <td>2018</td>\n",
       "      <td>52685584</td>\n",
       "      <td>146728065</td>\n",
       "    </tr>\n",
       "  </tbody>\n",
       "</table>\n",
       "</div>"
      ],
      "text/plain": [
       "      West Coast Population  East Coast Population\n",
       "2014               51990562              142194048\n",
       "2015               52514181              143606904\n",
       "2016               51860147              144608014\n",
       "2017               52338164              146084866\n",
       "2018               52685584              146728065"
      ]
     },
     "execution_count": 2,
     "metadata": {},
     "output_type": "execute_result"
    }
   ],
   "source": [
    "# Read in data files for population data\n",
    "total_pop = \"output_data/total_pop.csv\"\n",
    "total_pop = pd.read_csv(total_pop, thousands=',') \n",
    "\n",
    "#Clean up total population data\n",
    "total_pop.index=['2014','2015','2016','2017','2018']\n",
    "new_pop=total_pop.drop(['Unnamed: 0'],axis=1)\n",
    "new_pop"
   ]
  },
  {
   "cell_type": "code",
   "execution_count": 8,
   "metadata": {},
   "outputs": [
    {
     "data": {
      "text/html": [
       "<div>\n",
       "<style scoped>\n",
       "    .dataframe tbody tr th:only-of-type {\n",
       "        vertical-align: middle;\n",
       "    }\n",
       "\n",
       "    .dataframe tbody tr th {\n",
       "        vertical-align: top;\n",
       "    }\n",
       "\n",
       "    .dataframe thead th {\n",
       "        text-align: right;\n",
       "    }\n",
       "</style>\n",
       "<table border=\"1\" class=\"dataframe\">\n",
       "  <thead>\n",
       "    <tr style=\"text-align: right;\">\n",
       "      <th></th>\n",
       "      <th>Year</th>\n",
       "      <th>West Coast Population</th>\n",
       "      <th>East Coast Population</th>\n",
       "    </tr>\n",
       "  </thead>\n",
       "  <tbody>\n",
       "    <tr>\n",
       "      <td>0</td>\n",
       "      <td>2014</td>\n",
       "      <td>51990562</td>\n",
       "      <td>142194048</td>\n",
       "    </tr>\n",
       "    <tr>\n",
       "      <td>1</td>\n",
       "      <td>2015</td>\n",
       "      <td>52514181</td>\n",
       "      <td>143606904</td>\n",
       "    </tr>\n",
       "    <tr>\n",
       "      <td>2</td>\n",
       "      <td>2016</td>\n",
       "      <td>51860147</td>\n",
       "      <td>144608014</td>\n",
       "    </tr>\n",
       "    <tr>\n",
       "      <td>3</td>\n",
       "      <td>2017</td>\n",
       "      <td>52338164</td>\n",
       "      <td>146084866</td>\n",
       "    </tr>\n",
       "    <tr>\n",
       "      <td>4</td>\n",
       "      <td>2018</td>\n",
       "      <td>52685584</td>\n",
       "      <td>146728065</td>\n",
       "    </tr>\n",
       "  </tbody>\n",
       "</table>\n",
       "</div>"
      ],
      "text/plain": [
       "   Year  West Coast Population  East Coast Population\n",
       "0  2014               51990562              142194048\n",
       "1  2015               52514181              143606904\n",
       "2  2016               51860147              144608014\n",
       "3  2017               52338164              146084866\n",
       "4  2018               52685584              146728065"
      ]
     },
     "execution_count": 8,
     "metadata": {},
     "output_type": "execute_result"
    }
   ],
   "source": [
    "#Prepare total population data\n",
    "csv_file = pd.read_csv(\"https://media.githubusercontent.com/media/saeedakc/Toxic_Situation/master/output_data/total_pop.csv\",thousands=\",\")\n",
    "total_pop = pd.DataFrame(csv_file)\n",
    "new_total=total_pop.rename(columns={'Unnamed: 0':'Year'})\n",
    "new_total"
   ]
  },
  {
   "cell_type": "code",
   "execution_count": 3,
   "metadata": {},
   "outputs": [
    {
     "data": {
      "image/png": "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\n",
      "text/plain": [
       "<Figure size 720x216 with 1 Axes>"
      ]
     },
     "metadata": {
      "needs_background": "light"
     },
     "output_type": "display_data"
    }
   ],
   "source": [
    "#total_pop.drop(['Unnamed: 0'],axis=1).plot(kind=\"bar\", figsize=(10,3), rot=45)\n",
    "new_pop.plot(kind=\"bar\", figsize=(10,3), rot=45)\n",
    "plt.title('Population by Coast: 5-Year Period')\n",
    "plt.ylabel('Population (millions)')  \n",
    "plt.savefig('TotP.png')\n",
    "plt.show()"
   ]
  },
  {
   "cell_type": "code",
   "execution_count": 4,
   "metadata": {},
   "outputs": [
    {
     "data": {
      "image/png": "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\n",
      "text/plain": [
       "<Figure size 432x288 with 1 Axes>"
      ]
     },
     "metadata": {},
     "output_type": "display_data"
    }
   ],
   "source": [
    "#Prepare pie chart for west coast population \n",
    "labels=['Alaska','California','Hawaii','Oregon','Washington']\n",
    "sizes=[3689100,194733131,7108524,20088553,35769330]\n",
    "colors=[\"blue\",\"gold\",\"red\",\"green\",\"purple\"]\n",
    "\n",
    "explode=(0,.2,0,0,0)\n",
    "plt.pie(sizes, explode=explode, labels=labels, colors=colors,autopct=\"%1.1f%%\", shadow=True, startangle=140)\n",
    "plt.title(\"West Coast Population\")\n",
    "plt.show()"
   ]
  },
  {
   "cell_type": "code",
   "execution_count": 5,
   "metadata": {},
   "outputs": [
    {
     "data": {
      "image/png": "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\n",
      "text/plain": [
       "<Figure size 432x288 with 1 Axes>"
      ]
     },
     "metadata": {},
     "output_type": "display_data"
    }
   ],
   "source": [
    "#Prepare pie chart for east coast population\n",
    "labels=['Alabama','Connecticut','Delaware','Florida','Georgia','Louisiana','Maine','Maryland','Massachusetts','Mississippi','New  Hampshire','New Jersey','New York','North Carolina','Rhode Island','South Carolina','Texas','Virginia']\n",
    "sizes=[24334274,17924864,4762723,103060733,51571428,23346377,6665207,30094150,34113577,14945768,6691469,44754821,98678915,50790593,5284851,24798243,139295109,42108795]       \n",
    "explode=(0,0,0,.1,0,0,0,0,0,0,0,0,.1,.1,0,0,.1,0)\n",
    "colors=(\"white\",\"white\",\"white\",\"gold\",\"green\",\"white\",\"white\",\"white\",\"lightblue\",\"white\",\"white\",\"orange\",\"blue\",\"green\",\"white\",\"white\",\"red\",\"lightblue\")\n",
    "plt.pie(sizes, explode=explode, labels=labels, colors=colors, shadow=True, rotatelabels=True,startangle=130)\n",
    "plt.title(\"East Coast Population\")\n",
    "plt.show()"
   ]
  },
  {
   "cell_type": "code",
   "execution_count": 6,
   "metadata": {},
   "outputs": [],
   "source": [
    "#Read in pollution data for each year\n",
    "#2014\n",
    "csv_file = pd.read_csv(\"https://media.githubusercontent.com/media/saeedakc/Toxic_Situation/master/output_data/2014_Bicoastal_Litter.csv\")\n",
    "litter_14 = pd.DataFrame(csv_file)\n",
    "\n",
    "#Clean pollution data for each year \n",
    "del litter_14['Unnamed: 0']\n",
    "west_14 = litter_14.loc[litter_14['Coast']=='West Coast']\n",
    "east_14 = litter_14.loc[litter_14['Coast']=='East Coast']\n",
    "\n",
    "#Prepare dataframes for graphing\n",
    "west_14_sum=pd.DataFrame(west_14.sum(axis=1))\n",
    "west_14_sum\n",
    "west_14_final=pd.DataFrame(west_14_sum.sum(axis=0))\n",
    "east_14_sum=pd.DataFrame(east_14.sum(axis=1))\n",
    "east_14_sum\n",
    "east_14_final=pd.DataFrame(east_14_sum.sum(axis=0))\n",
    "\n",
    "#Read in pollution data for each year\n",
    "#2015\n",
    "csv_file = pd.read_csv(\"https://media.githubusercontent.com/media/saeedakc/Toxic_Situation/master/output_data/2015_Bicoastal_Litter.csv\")\n",
    "litter_15 = pd.DataFrame(csv_file)\n",
    "\n",
    "#Clean pollution data for each year \n",
    "del litter_15['Unnamed: 0']\n",
    "west_15 = litter_15.loc[litter_14['Coast']=='West Coast']\n",
    "east_15 = litter_15.loc[litter_15['Coast']=='East Coast']\n",
    "\n",
    "#Prepare dataframes for graphing\n",
    "west_15_sum=pd.DataFrame(west_15.sum(axis=1))\n",
    "west_15_final=pd.DataFrame(west_15_sum.sum(axis=0))\n",
    "east_15_sum=pd.DataFrame(east_15.sum(axis=1))\n",
    "east_15_final=pd.DataFrame(east_15_sum.sum(axis=0))\n",
    "\n",
    "#Read in pollution data for each year\n",
    "#2016\n",
    "csv_file = pd.read_csv(\"https://media.githubusercontent.com/media/saeedakc/Toxic_Situation/master/output_data/2016_Bicoastal_Litter.csv\")\n",
    "litter_16 = pd.DataFrame(csv_file)\n",
    "\n",
    "#Clean pollution data for each year \n",
    "del litter_16['Unnamed: 0']\n",
    "west_16 = litter_16.loc[litter_14['Coast']=='West Coast']\n",
    "east_16 = litter_16.loc[litter_16['Coast']=='East Coast']\n",
    "\n",
    "#Prepare dataframes for graphing\n",
    "west_16_sum=pd.DataFrame(west_16.sum(axis=1))\n",
    "west_16_final=pd.DataFrame(west_16_sum.sum(axis=0))\n",
    "east_16_sum=pd.DataFrame(east_16.sum(axis=1))\n",
    "east_16_final=pd.DataFrame(east_16_sum.sum(axis=0))\n",
    "\n",
    "#Read in pollution data for each year\n",
    "#2017\n",
    "csv_file = pd.read_csv(\"https://media.githubusercontent.com/media/saeedakc/Toxic_Situation/master/output_data/2017_Bicoastal_Litter.csv\")\n",
    "litter_17 = pd.DataFrame(csv_file)\n",
    "\n",
    "#Clean pollution data for each year \n",
    "del litter_17['Unnamed: 0']\n",
    "west_17 = litter_17.loc[litter_14['Coast']=='West Coast']\n",
    "east_17 = litter_17.loc[litter_17['Coast']=='East Coast']\n",
    "\n",
    "#Prepare dataframes for graphing\n",
    "west_17_sum=pd.DataFrame(west_17.sum(axis=1))\n",
    "west_17_final=pd.DataFrame(west_17_sum.sum(axis=0))\n",
    "east_17_sum=pd.DataFrame(east_17.sum(axis=1))\n",
    "east_17_final=pd.DataFrame(east_17_sum.sum(axis=0))\n",
    "\n",
    "#Read in pollution data for each year\n",
    "#2018\n",
    "csv_file = pd.read_csv(\"https://media.githubusercontent.com/media/saeedakc/Toxic_Situation/master/output_data/2018_Bicoastal_Litter.csv\")\n",
    "litter_18 = pd.DataFrame(csv_file)\n",
    "\n",
    "#Clean pollution data for each year \n",
    "del litter_18['Unnamed: 0']\n",
    "west_18 = litter_18.loc[litter_14['Coast']=='West Coast']\n",
    "east_18 = litter_18.loc[litter_18['Coast']=='East Coast']\n",
    "\n",
    "#Prepare dataframes for graphing\n",
    "west_18_sum=pd.DataFrame(west_18.sum(axis=1))\n",
    "west_18_final=pd.DataFrame(west_18_sum.sum(axis=0))\n",
    "east_18_sum=pd.DataFrame(east_18.sum(axis=1))\n",
    "east_18_final=pd.DataFrame(east_18_sum.sum(axis=0))\n",
    "\n",
    "#Merge dataframes for final graphs\n",
    "west_all=pd.concat([west_14_final,west_15_final,west_16_final,west_17_final,west_18_final])\n",
    "west_all.columns=['Pollution']\n",
    "east_all=pd.concat([east_14_final,east_15_final,east_16_final,east_17_final,east_18_final])\n",
    "east_all.columns=['Pollution']\n",
    "\n",
    "\n"
   ]
  },
  {
   "cell_type": "code",
   "execution_count": 9,
   "metadata": {},
   "outputs": [
    {
     "data": {
      "image/png": "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\n",
      "text/plain": [
       "<Figure size 432x288 with 1 Axes>"
      ]
     },
     "metadata": {
      "needs_background": "light"
     },
     "output_type": "display_data"
    }
   ],
   "source": [
    "# Summary West Coast Population vs Pollution \n",
    "\n",
    "labels = ['2014', '2015', '2016', '2017', '2018']\n",
    "\n",
    "x = np.arange(len(labels))  # the label locations\n",
    "width = 0.35  # the width of the bars\n",
    "\n",
    "fig, ax = plt.subplots()\n",
    "rects1 = ax.bar(x - width/2, new_total['West Coast Population'], width, label='West Coast Population')\n",
    "rects2 = ax.bar(x + width/2, west_all['Pollution'], width, label='West Coast Pollution')\n",
    "\n",
    "# Add some text for labels, title and custom x-axis tick labels, etc.\n",
    "#ax.set_ylabel('Total GDP in Millions of USD')\n",
    "ax.set_title('West Coast Population and West Coast Pollution')\n",
    "ax.set_xticks(x)\n",
    "ax.set_xticklabels(labels)\n",
    "plt.ylabel('Population(millions)')\n",
    "ax.legend()\n",
    "plt.savefig('wpoppul.png')"
   ]
  },
  {
   "cell_type": "code",
   "execution_count": 10,
   "metadata": {},
   "outputs": [
    {
     "data": {
      "image/png": "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\n",
      "text/plain": [
       "<Figure size 432x288 with 1 Axes>"
      ]
     },
     "metadata": {
      "needs_background": "light"
     },
     "output_type": "display_data"
    }
   ],
   "source": [
    "# Summary East Coast Population vs Pollution \n",
    "\n",
    "labels = ['2014', '2015', '2016', '2017', '2018']\n",
    "\n",
    "x = np.arange(len(labels))  # the label locations\n",
    "width = 0.35  # the width of the bars\n",
    "\n",
    "fig, ax = plt.subplots()\n",
    "rects1 = ax.bar(x - width/2, new_total['East Coast Population'], width, label='East Coast Population')\n",
    "rects2 = ax.bar(x + width/2, east_all['Pollution'], width, label='East Coast Pollution')\n",
    "\n",
    "# Add some text for labels, title and custom x-axis tick labels, etc.\n",
    "#ax.set_ylabel('Total GDP in Millions of USD')\n",
    "ax.set_title('East Coast Population and East Coast Pollution')\n",
    "plt.ylabel('Population(millions)')\n",
    "ax.set_xticks(x)\n",
    "ax.set_xticklabels(labels)\n",
    "\n",
    "ax.legend()\n",
    "plt.savefig('epoppul.png')"
   ]
  },
  {
   "cell_type": "code",
   "execution_count": 11,
   "metadata": {},
   "outputs": [
    {
     "data": {
      "text/plain": [
       "LinregressResult(slope=0.05305014099978954, intercept=52239536.920204565, rvalue=0.10125963115013017, pvalue=0.8712929005369607, stderr=0.30092035021203767)"
      ]
     },
     "execution_count": 11,
     "metadata": {},
     "output_type": "execute_result"
    }
   ],
   "source": [
    "#Statistics\n",
    "#West Coast Population vs West Coast Pollution\n",
    "stats.linregress(west_all['Pollution'], new_total['West Coast Population'])\n",
    "#rvalue=0.10125963115013017"
   ]
  },
  {
   "cell_type": "code",
   "execution_count": 12,
   "metadata": {},
   "outputs": [
    {
     "data": {
      "text/plain": [
       "LinregressResult(slope=0.8385227414677713, intercept=142793577.41473663, rvalue=0.931577796825101, pvalue=0.021262837187200612, stderr=0.18892512514674148)"
      ]
     },
     "execution_count": 12,
     "metadata": {},
     "output_type": "execute_result"
    }
   ],
   "source": [
    "#East Coast Population vs East Coast Pollution\n",
    "stats.linregress(east_all['Pollution'], new_total['East Coast Population'])\n",
    "#rvalue=0.931577796825101"
   ]
  },
  {
   "cell_type": "markdown",
   "metadata": {},
   "source": [
    "## GDP Analysis"
   ]
  },
  {
   "cell_type": "code",
   "execution_count": 2,
   "metadata": {},
   "outputs": [],
   "source": [
    "# Read in the east coast GDP CSV\n",
    "csv_file = pd.read_csv('https://media.githubusercontent.com/media/saeedakc/Toxic_Situation/master/output_data/GDP_East.csv', thousands=',')\n",
    "east_data = pd.DataFrame(csv_file)\n",
    "east_data\n",
    "east_data.columns = ['State', '2014', '2015', '2016', '2017', '2018']\n",
    "\n",
    "# Sum total of east coast GDP per year\n",
    "east_sum = east_data.sum()\n",
    "\n",
    "# Read in the west coast GDP CSV\n",
    "csv_file = pd.read_csv('https://media.githubusercontent.com/media/saeedakc/Toxic_Situation/master/output_data/GDP_West.csv', thousands=',')\n",
    "west_data = pd.DataFrame(csv_file)\n",
    "west_data.columns = ['State', '2014', '2015', '2016', '2017', '2018']\n",
    "\n",
    "# Sum total of west coast GDP per year\n",
    "west_sum = west_data.sum()\n",
    "west_df = pd.DataFrame(west_sum)\n",
    "\n",
    "# Combine the two into a total GDP summary table\n",
    "sum_df = pd.DataFrame(east_sum)\n",
    "sum_df.columns = ['East Coast']\n",
    "sums_df = sum_df.join(west_df)\n",
    "sums_df.columns = ['East Coast', 'West Coast']\n",
    "sums_df = sums_df.T\n",
    "del sums_df['State']\n",
    "sums_df\n",
    "\n",
    "# Transform GDP Summary table for readability\n",
    "sums_df = sums_df.T"
   ]
  },
  {
   "cell_type": "code",
   "execution_count": null,
   "metadata": {},
   "outputs": [],
   "source": [
    "# Summary East v West coast bar plot\n",
    "\n",
    "labels = ['2014', '2015', '2016', '2017', '2018']\n",
    "\n",
    "x = np.arange(len(labels))  # the label locations\n",
    "width = 0.35  # the width of the bars\n",
    "\n",
    "fig, ax = plt.subplots()\n",
    "rects1 = ax.bar(x - width/2, sums_df['East Coast'], width, label='East Coast')\n",
    "rects2 = ax.bar(x + width/2, sums_df['West Coast'], width, label='West Coast')\n",
    "\n",
    "# Add some text for labels, title and custom x-axis tick labels, etc.\n",
    "ax.set_ylabel('Total GDP in Millions of USD')\n",
    "ax.set_title('Summary of GDP on Each Coast by Year')\n",
    "ax.set_xticks(x)\n",
    "ax.set_xticklabels(labels)\n",
    "ax.legend()\n",
    "plt.savefig('summaryGDP.png')"
   ]
  },
  {
   "cell_type": "code",
   "execution_count": null,
   "metadata": {},
   "outputs": [],
   "source": [
    "# Look at pollution data\n",
    "csv_file = pd.read_csv('https://media.githubusercontent.com/media/deirdrebclark/Project1/master/output_data/Bicoastal_Litter.csv')\n",
    "litter_df = pd.DataFrame(csv_file)\n",
    "# Clean the dataframe\n",
    "litter_df\n",
    "del litter_df['Unnamed: 0']\n",
    "east_lit = litter_df.loc[litter_df['level_0'] == 'East Coast']\n",
    "west_lit = litter_df.loc[litter_df['level_0'] == 'West Coast']\n",
    "\n",
    "# Rename columns to match GDP data and sort\n",
    "east_data\n",
    "east_lit['State'] = ['AL', 'CT', 'DE', 'FL', 'GA', 'LA', 'ME', 'MD', 'MA', 'MS', 'NH', 'NJ', 'NY', 'NC', 'RI', 'SC', 'TX', 'VA']\n",
    "east_lit\n",
    "east_df = east_data.sort_values('State').copy()\n",
    "east_litt = east_lit.sort_values('State').copy()\n",
    "\n",
    "# Rename columns to match GDP data and sort\n",
    "west_data\n",
    "west_lit['State'] = ['AK', 'CA', 'HI', 'OR', 'WA']\n",
    "west_lit\n",
    "west_df = west_data.sort_values('State').copy()\n",
    "west_litt = west_lit.sort_values('State').copy()\n",
    "# Total Pollution dataframes-- east\n",
    "east_total_litter = pd.DataFrame(east_litt.sum(axis=1))\n",
    "east_total_litter = east_total_litter.join(east_litt['State'])\n",
    "east_total_litter.set_index(['State'])\n",
    "east_total_litter.columns = ['Total Pollution', 'State']\n",
    "# Total Pollution dataframes-- west\n",
    "west_total_litter = pd.DataFrame(west_litt.sum(axis=1))\n",
    "west_total_litter = west_total_litter.join(west_litt['State'])\n",
    "west_total_litter.set_index(['State'])\n",
    "west_total_litter.columns = ['Total Pollution', 'State']"
   ]
  },
  {
   "cell_type": "code",
   "execution_count": null,
   "metadata": {},
   "outputs": [],
   "source": [
    "# Bar plots comparing pollutants and GDP visually\n",
    "labels = east_df['State']\n",
    "\n",
    "x = np.arange(len(labels))  # the label locations\n",
    "width = 0.25  # the width of the bars\n",
    "\n",
    "fig, ax = plt.subplots()\n",
    "rects1 = ax.bar(x - 3*width/4, east_df['2018'], width, label='GDP')\n",
    "rects2 = ax.bar(x + width/4, east_litt['Plastic Waste'], width, label='Plastic Waste')\n",
    "rects3 = ax.bar(x + 3*width/4, east_litt['Foam Waste'], width, label='Foam Waste')\n",
    "rects3 = ax.bar(x + 6*width/4, east_litt[\"Smoking Waste Items\"], width, label='Smoking Waste')\n",
    "\n",
    "# Add some text for labels, title and custom x-axis tick labels, etc.\n",
    "ax.set_ylabel('Waste in tons')\n",
    "ax.set_xlabel('State')\n",
    "ax.set_title('Top Wastes by State (East)')\n",
    "ax.set_xticks(x)\n",
    "ax.set_xticklabels(labels)\n",
    "ax.legend()\n",
    "plt.savefig('3polsVsGDP_east.png')\n",
    "\n",
    "labels = west_df['State']\n",
    "\n",
    "x = np.arange(len(labels))  # the label locations\n",
    "width = 0.25  # the width of the bars\n",
    "\n",
    "fig, ax = plt.subplots()\n",
    "rects1 = ax.bar(x - 3*width/4, west_df['2018'], width, label='GDP')\n",
    "rects2 = ax.bar(x + width/4, west_litt['Plastic Waste'], width, label='Plastic Waste')\n",
    "rects3 = ax.bar(x + 3*width/4, west_litt['Foam Waste'], width, label='Foam Waste')\n",
    "rects3 = ax.bar(x + 6*width/4, west_litt[\"Smoking Waste Items\"], width, label='Smoking Waste')\n",
    "\n",
    "# Add some text for labels, title and custom x-axis tick labels, etc.\n",
    "ax.set_ylabel('Waste in tons or GDP in millions')\n",
    "ax.set_xlabel('State')\n",
    "ax.set_title('Top Wastes by State (West)')\n",
    "ax.set_xticks(x)\n",
    "ax.set_xticklabels(labels)\n",
    "ax.legend()\n",
    "plt.savefig('3polsVsGDP_west.png')"
   ]
  },
  {
   "cell_type": "markdown",
   "metadata": {},
   "source": [
    "## Coastline Analysis"
   ]
  },
  {
   "cell_type": "code",
   "execution_count": 3,
   "metadata": {},
   "outputs": [
    {
     "data": {
      "text/html": [
       "<div>\n",
       "<style scoped>\n",
       "    .dataframe tbody tr th:only-of-type {\n",
       "        vertical-align: middle;\n",
       "    }\n",
       "\n",
       "    .dataframe tbody tr th {\n",
       "        vertical-align: top;\n",
       "    }\n",
       "\n",
       "    .dataframe thead th {\n",
       "        text-align: right;\n",
       "    }\n",
       "</style>\n",
       "<table border=\"1\" class=\"dataframe\">\n",
       "  <thead>\n",
       "    <tr style=\"text-align: right;\">\n",
       "      <th></th>\n",
       "      <th>State</th>\n",
       "      <th>Coastline</th>\n",
       "    </tr>\n",
       "  </thead>\n",
       "  <tbody>\n",
       "    <tr>\n",
       "      <th>1</th>\n",
       "      <td>AK</td>\n",
       "      <td>8436</td>\n",
       "    </tr>\n",
       "    <tr>\n",
       "      <th>2</th>\n",
       "      <td>CA</td>\n",
       "      <td>3427</td>\n",
       "    </tr>\n",
       "    <tr>\n",
       "      <th>7</th>\n",
       "      <td>HI</td>\n",
       "      <td>1410</td>\n",
       "    </tr>\n",
       "    <tr>\n",
       "      <th>17</th>\n",
       "      <td>OR</td>\n",
       "      <td>607</td>\n",
       "    </tr>\n",
       "    <tr>\n",
       "      <th>22</th>\n",
       "      <td>WA</td>\n",
       "      <td>131</td>\n",
       "    </tr>\n",
       "  </tbody>\n",
       "</table>\n",
       "</div>"
      ],
      "text/plain": [
       "   State  Coastline\n",
       "1     AK       8436\n",
       "2     CA       3427\n",
       "7     HI       1410\n",
       "17    OR        607\n",
       "22    WA        131"
      ]
     },
     "execution_count": 3,
     "metadata": {},
     "output_type": "execute_result"
    }
   ],
   "source": [
    "# Open coastline CSV\n",
    "csv_file = pd.read_csv(\"https://media.githubusercontent.com/media/saeedakc/Toxic_Situation/master/output_data/coastline.csv\", thousands=\",\")\n",
    "coast_df = pd.DataFrame(csv_file)\n",
    "\n",
    "# Format the coastline Dataframe\n",
    "coast_df.columns = ['State', 'Coastline']\n",
    "coast_df['Coastline'] = coast_df['Coastline'].str.strip(' mi')\n",
    "coast_df['Coastline'] = coast_df['Coastline'].str.replace(',' , '')\n",
    "coast_df['Coastline'] = coast_df['Coastline'].astype(int)\n",
    "coast_df['State'] = ['AL', 'AK', 'CA', 'CT', 'DE', 'FL', 'GA', 'HI', 'LA', 'ME', 'MD', 'MA', 'MS', 'NH', 'NJ', 'NY', 'NC', 'OR', 'RI', 'SC', 'TX', 'VA', 'WA']\n",
    "\n",
    "# Separate into E vs W coast\n",
    "east_state = ['AL', 'CT','DE','FL','GA','LA','ME','MD','MA','MS','NH','NJ','NY','NC','RI','SC','TX', 'VA']\n",
    "east_coast = coast_df[coast_df.State.isin(east_state)]\n",
    "\n",
    "west_state =  ['AK', 'CA', 'HI', 'OR', 'WA']\n",
    "west_coast = coast_df[coast_df.State.isin(west_state)]\n",
    "west_coast"
   ]
  },
  {
   "cell_type": "code",
   "execution_count": null,
   "metadata": {},
   "outputs": [],
   "source": [
    "# Barplot for coastline values\n",
    "labels = east_coast['State']\n",
    "\n",
    "x = np.arange(len(labels))  # the label locations\n",
    "width = 0.35  # the width of the bars\n",
    "\n",
    "fig, ax = plt.subplots()\n",
    "rects1 = ax.bar(x - width/2, east_coast['Coastline']/100, width, label='Coastline')\n",
    "rects2 = ax.bar(x + width/2, east_total_litter['Total Pollution']/100000, width, label='Total Pollution')\n",
    "\n",
    "# Add some text for labels, title and custom x-axis tick labels, etc.\n",
    "ax.set_ylabel('Normalized units (per 100 mi or per 100k tons)')\n",
    "ax.set_title('Total Pollution vs E. Coastline Amount')\n",
    "ax.set_xticks(x)\n",
    "ax.set_xticklabels(labels)\n",
    "ax.legend()\n",
    "plt.savefig('coastline_east.png')\n",
    "\n",
    "# Barplot for coastline values\n",
    "labels = west_coast['State']\n",
    "\n",
    "x = np.arange(len(labels))  # the label locations\n",
    "width = 0.35  # the width of the bars\n",
    "\n",
    "fig, ax = plt.subplots()\n",
    "rects1 = ax.bar(x - width/2, west_coast['Coastline']/100, width, label='Coastline')\n",
    "rects2 = ax.bar(x + width/2, west_total_litter['Total Pollution']/100000, width, label='Total Pollution')\n",
    "\n",
    "# Add some text for labels, title and custom x-axis tick labels, etc.\n",
    "ax.set_ylabel('Normalized units (per 100 mi or per 100k tons)')\n",
    "ax.set_title('Total Pollution vs W. Coastline Amount')\n",
    "ax.set_xticks(x)\n",
    "ax.set_xticklabels(labels)\n",
    "ax.legend()\n",
    "plt.savefig('coastline_west.png')"
   ]
  },
  {
   "cell_type": "code",
   "execution_count": null,
   "metadata": {},
   "outputs": [],
   "source": [
    "#Coastline v Total Non-point Pollution\n",
    "stats.linregress(west_coast['Coastline'], west_total_litter['Total Pollution'])\n",
    "# rvalue=-0.25912315944531666\n",
    "stats.linregress(east_coast['Coastline'], east_total_litter['Total Pollution'])\n",
    "# rvalue=0.5543644933615807\n",
    "\n",
    "#GDP v Total Non-point Pollution\n",
    "stats.linregress(west_df['2018'], west_total_litter['Total Pollution'])\n",
    "# rvalue=0.987650265665757 very strong correlation\n",
    "stats.linregress(east_df['2018'], east_total_litter['Total Pollution'])\n",
    "# rvalue=0.44829529090626186\n",
    "\n",
    "#East v West Coast Pollution, GDP\n",
    "stats.ttest_ind(east_total_litter['Total Pollution'], west_total_litter['Total Pollution'])\n",
    "# pvalue=0.8510624099227789 not different\n",
    "stats.ttest_ind(east_df['2018'], west_df['2018'])\n",
    "# pvalue=0.4485761095948283 not different\n",
    "\n",
    "# Coastal ANOVAs\n",
    "stats.f_oneway(east_df['2018'], east_coast['Coastline'], east_total_litter['Total Pollution'])\n",
    "# pvalue=0.0010412292719855817\n",
    "stats.ttest_ind(east_df['2018'], east_coast['Coastline'])\n",
    "# pvalue=0.0001969110170277953 significantly different; have nothing to do with one another\n",
    "stats.f_oneway(west_df['2018'], west_coast['Coastline'], west_total_litter['Total Pollution'])\n",
    "# pvalue=0.42347054854659516 not significantly different"
   ]
  },
  {
   "cell_type": "markdown",
   "metadata": {},
   "source": [
    "## West Coast Laws & Regulations Analysis"
   ]
  },
  {
   "cell_type": "code",
   "execution_count": null,
   "metadata": {},
   "outputs": [],
   "source": [
    "#Pull data from the output csv files\n",
    "w_coast_laws_df = pd.read_csv('output_data/w_coast_laws.csv')\n",
    "w_coast_laws_by_state_df = pd.read_csv('output_data/w_coast_laws_by_state.csv')"
   ]
  },
  {
   "cell_type": "code",
   "execution_count": null,
   "metadata": {},
   "outputs": [],
   "source": [
    "#Plot the number of laws & regulations by year & state\n",
    "w_coast_state = w_coast_laws_by_state_df.set_index('STATE')\n",
    "years = ['2014', '2015', '2016', '2017', '2018']\n",
    "\n",
    "#ak_data = w_coast_laws_by_state_df.loc[w_coast_laws_by_state_df['STATE'] == 'AK']\n",
    "\n",
    "ak_line, = plt.plot(years, w_coast_state.loc['AK',['INTEREST_TYPE']], \n",
    "                    color = 'k', label = 'Alaska')\n",
    "ca_line, = plt.plot(years, w_coast_state.loc['CA',['INTEREST_TYPE']], \n",
    "                    color = 'y', label = 'California')\n",
    "hi_line, = plt.plot(years, w_coast_state.loc['HI',['INTEREST_TYPE']], \n",
    "                    color = 'm', label = 'Hawaii')\n",
    "or_line, = plt.plot(years, w_coast_state.loc['OR',['INTEREST_TYPE']], \n",
    "                    color = 'g', label = 'Oregon')\n",
    "wa_line, = plt.plot(years, w_coast_state.loc['WA',['INTEREST_TYPE']], \n",
    "                    color = 'b', label = 'Washington')\n",
    "\n",
    "plt.legend()\n",
    "plt.title('West Coast States EPA Laws & Regulations', fontsize = 18)\n",
    "plt.xlabel('Years', fontsize = 14)\n",
    "plt.ylabel('Active Laws & Regulations', fontsize = 12)\n",
    "\n",
    "plt.savefig('output_data/w_coast_laws_by_state.png')\n",
    "plt.show\n"
   ]
  },
  {
   "cell_type": "code",
   "execution_count": null,
   "metadata": {},
   "outputs": [],
   "source": [
    "#Pull pollution data\n",
    "bicoastal_litter_2014_df = pd.read_csv('output_data/2014_Bicoastal_Litter.csv')\n",
    "w_coast_litter_2014_df = pd.DataFrame(bicoastal_litter_2014_df.loc[bicoastal_litter_2014_df['Coast'] == 'West Coast'])\n",
    "\n",
    "litter_by_year = {}\n",
    "\n",
    "for x in w_coast_litter_2014_df:\n",
    "    \n",
    "    total_litter_2014 = 0\n",
    "    \n",
    "    total_litter_2014 += w_coast_litter_2014_df['Plastic Waste']\n",
    "    total_litter_2014 += w_coast_litter_2014_df['Foam Waste'] \n",
    "    total_litter_2014 += w_coast_litter_2014_df[\"Fisherman's Waste\"]\n",
    "    total_litter_2014 += w_coast_litter_2014_df['Smoking Waste Items'] \n",
    "    total_litter_2014 += w_coast_litter_2014_df['Misc Food Waste Items']\n",
    "    total_litter_2014 += w_coast_litter_2014_df['Miscellaneous Waste Items']\n",
    "    \n",
    "    w_coast_litter_2014_df['Total Litter'] = total_litter_2014\n",
    "    \n",
    "litter_by_year['2014'] =  w_coast_litter_2014_df['Total Litter'][0] + w_coast_litter_2014_df['Total Litter'][1] + w_coast_litter_2014_df['Total Litter'][2] + w_coast_litter_2014_df['Total Litter'][3] + w_coast_litter_2014_df['Total Litter'][4]\n",
    "  \n",
    "bicoastal_litter_2015_df = pd.read_csv('output_data/2015_Bicoastal_Litter.csv')\n",
    "w_coast_litter_2015_df = pd.DataFrame(bicoastal_litter_2015_df.loc[bicoastal_litter_2015_df['Coast'] == 'West Coast'])\n",
    "\n",
    "for x in w_coast_litter_2015_df:\n",
    "    \n",
    "    total_litter_2015 = 0\n",
    "    \n",
    "    total_litter_2015 += w_coast_litter_2015_df['Plastic Waste'] \n",
    "    total_litter_2015 += w_coast_litter_2015_df['Foam Waste'] \n",
    "    total_litter_2015 += w_coast_litter_2015_df[\"Fisherman's Waste\"]\n",
    "    total_litter_2015 += w_coast_litter_2015_df['Smoking Waste Items'] \n",
    "    total_litter_2015 += w_coast_litter_2015_df['Misc Food Waste Items']\n",
    "    total_litter_2015 += w_coast_litter_2015_df['Miscellaneous Waste Items']\n",
    "    \n",
    "    w_coast_litter_2015_df['Total Litter'] = total_litter_2015\n",
    "\n",
    "litter_by_year['2015'] =  w_coast_litter_2015_df['Total Litter'][0] + w_coast_litter_2015_df['Total Litter'][1] + w_coast_litter_2015_df['Total Litter'][2] + w_coast_litter_2015_df['Total Litter'][3] + w_coast_litter_2015_df['Total Litter'][4]\n",
    "\n",
    "bicoastal_litter_2016_df = pd.read_csv('output_data/2016_Bicoastal_Litter.csv')\n",
    "w_coast_litter_2016_df = pd.DataFrame(bicoastal_litter_2016_df.loc[bicoastal_litter_2016_df['Coast'] == 'West Coast'])\n",
    "\n",
    "for x in w_coast_litter_2016_df:\n",
    "    \n",
    "    total_litter_2016 = 0\n",
    "    \n",
    "    total_litter_2016 += w_coast_litter_2016_df['Plastic Waste'] \n",
    "    total_litter_2016 += w_coast_litter_2016_df['Foam Waste'] \n",
    "    total_litter_2016 += w_coast_litter_2016_df[\"Fisherman's Waste\"]\n",
    "    total_litter_2016 += w_coast_litter_2016_df['Smoking Waste Items'] \n",
    "    total_litter_2016 += w_coast_litter_2016_df['Misc Food Waste Items']\n",
    "    total_litter_2016 += w_coast_litter_2016_df['Miscellaneous Waste Items']\n",
    "    \n",
    "    w_coast_litter_2016_df['Total Litter'] = total_litter_2016\n",
    "\n",
    "litter_by_year['2016'] =  w_coast_litter_2016_df['Total Litter'][0] + w_coast_litter_2016_df['Total Litter'][1] + w_coast_litter_2016_df['Total Litter'][2] + w_coast_litter_2016_df['Total Litter'][3] + w_coast_litter_2016_df['Total Litter'][4]\n",
    "\n",
    "bicoastal_litter_2017_df = pd.read_csv('output_data/2017_Bicoastal_Litter.csv')\n",
    "w_coast_litter_2017_df = pd.DataFrame(bicoastal_litter_2017_df.loc[bicoastal_litter_2017_df['Coast'] == 'West Coast'])\n",
    "\n",
    "for x in w_coast_litter_2017_df:\n",
    "    \n",
    "    total_litter_2017 = 0\n",
    "    \n",
    "    total_litter_2017 += w_coast_litter_2017_df['Plastic Waste'] \n",
    "    total_litter_2017 += w_coast_litter_2017_df['Foam Waste'] \n",
    "    total_litter_2017 += w_coast_litter_2017_df[\"Fisherman's Waste\"]\n",
    "    total_litter_2017 += w_coast_litter_2017_df['Smoking Waste Items'] \n",
    "    total_litter_2017 += w_coast_litter_2017_df['Misc Food Waste Items']\n",
    "    total_litter_2017 += w_coast_litter_2017_df['Miscellaneous Waste Items']\n",
    "    \n",
    "    w_coast_litter_2017_df['Total Litter'] = total_litter_2017\n",
    "\n",
    "litter_by_year['2017'] =  w_coast_litter_2017_df['Total Litter'][0] + w_coast_litter_2017_df['Total Litter'][1] + w_coast_litter_2017_df['Total Litter'][2] + w_coast_litter_2017_df['Total Litter'][3] + w_coast_litter_2017_df['Total Litter'][4]\n",
    "    \n",
    "bicoastal_litter_2018_df = pd.read_csv('output_data/2018_Bicoastal_Litter.csv')\n",
    "w_coast_litter_2018_df = pd.DataFrame(bicoastal_litter_2018_df.loc[bicoastal_litter_2018_df['Coast'] == 'West Coast'])\n",
    "\n",
    "for row in w_coast_litter_2018_df:\n",
    "    \n",
    "    total_litter_2018 = 0\n",
    "    \n",
    "    total_litter_2018 += w_coast_litter_2018_df['Plastic Waste'] \n",
    "    total_litter_2018 += w_coast_litter_2018_df['Foam Waste'] \n",
    "    total_litter_2018 += w_coast_litter_2018_df[\"Fisherman's Waste\"]\n",
    "    total_litter_2018 += w_coast_litter_2018_df['Smoking Waste Items'] \n",
    "    total_litter_2018 += w_coast_litter_2018_df['Misc Food Waste Items']\n",
    "    total_litter_2018 += w_coast_litter_2018_df['Miscellaneous Waste Items']\n",
    "    \n",
    "    w_coast_litter_2018_df['Total Litter'] = total_litter_2018\n",
    "\n",
    "litter_by_year['2018'] =  w_coast_litter_2018_df['Total Litter'][0] + w_coast_litter_2018_df['Total Litter'][1] + w_coast_litter_2018_df['Total Litter'][2] + w_coast_litter_2018_df['Total Litter'][3] + w_coast_litter_2018_df['Total Litter'][4]\n",
    "\n",
    "\n",
    "litter_by_year_df = pd.DataFrame.from_dict(litter_by_year, orient = 'index', columns = ['LITTER_AMT'])\n"
   ]
  },
  {
   "cell_type": "code",
   "execution_count": null,
   "metadata": {},
   "outputs": [],
   "source": [
    "#Set up the West Coast dataframe and create the scatter plot\n",
    "w_coast_laws_df.round()\n",
    "w_coast_laws_df['START_YEAR'] = w_coast_laws_df['START_YEAR'].astype(int)\n",
    "w_coast_laws_df = w_coast_laws_df.set_index('START_YEAR')\n",
    "\n",
    "#Plot west coast EPA laws & regulations vs. the bicoastal pollution for 2014\n",
    "x = []\n",
    "y = []\n",
    "counter = 0\n",
    "\n",
    "years = ['2014', '2015', '2016', '2017', '2018']\n",
    "\n",
    "for years[counter], row in w_coast_laws_df.iterrows():\n",
    "        \n",
    "    x.append(row['STATE'].astype(int))\n",
    "    \n",
    "    counter += 1\n",
    "\n",
    "counter = 0\n",
    "\n",
    "\n",
    "for years[counter], row in litter_by_year_df.iterrows():\n",
    "\n",
    "    y.append(row['LITTER_AMT'].astype(int))\n",
    "        \n",
    "    counter += 1\n",
    "\n",
    "plt.scatter(x, years, marker = 'o', facecolors = 'b', edgecolors = 'k', alpha = 1, label = 'Laws')\n",
    "plt.scatter(y, years, marker = '^', facecolors = 'y', edgecolors = 'k', alpha = 1, label = 'Litter')\n",
    "\n",
    "plt.title('Laws & Regulations vs NonPoint Litter', fontsize = 20)\n",
    "plt.xlabel('Counts', fontsize = 16)\n",
    "plt.ylabel('Years', fontsize = 16)\n",
    "plt.legend()\n",
    "plt.grid(True)\n",
    "\n",
    "\n",
    "rcParams['figure.figsize'] = 10, 5\n",
    "\n",
    "plt.savefig('output_data/w_coast_laws.png', dpi=100)\n",
    "plt.show\n"
   ]
  },
  {
   "cell_type": "markdown",
   "metadata": {},
   "source": [
<<<<<<< HEAD
    "# Laws East Coast Analysis"
=======
    "# Bi-Coastal Analysis"
>>>>>>> b6cc74ea6b64ab87afa143fb9901fc3bcbcc982d
   ]
  },
  {
   "cell_type": "code",
   "execution_count": null,
   "metadata": {},
   "outputs": [],
   "source": [
<<<<<<< HEAD
    "# import\n",
    "st_law_bars = pd.read_csv(\"output_data/e_coast_laws_by_state.csv\")"
   ]
  },
  {
   "cell_type": "code",
   "execution_count": null,
   "metadata": {},
   "outputs": [],
   "source": [
    "df = st_law_bars\n",
    "df['Start of Relief'].value_counts()"
   ]
  },
  {
   "cell_type": "code",
   "execution_count": null,
   "metadata": {},
   "outputs": [],
   "source": [
    "df.State.unique()"
   ]
  },
  {
   "cell_type": "code",
   "execution_count": null,
   "metadata": {},
   "outputs": [],
   "source": [
    "df['Main Interest Type'].value_counts()"
=======
    "# Create Pathway of Summary files\n",
    "WC_Data = \"output_data/WC_Litter.csv\"\n",
    "EC_Data = \"output_data/EC_Litter.csv\"\n",
    "\n",
    "# Read all the summary files\n",
    "WC_pd = pd.read_csv(WC_Data)\n",
    "EC_pd = pd.read_csv(EC_Data)"
>>>>>>> b6cc74ea6b64ab87afa143fb9901fc3bcbcc982d
   ]
  },
  {
   "cell_type": "code",
   "execution_count": null,
   "metadata": {},
   "outputs": [],
   "source": [
<<<<<<< HEAD
    "x = df[['Start of Relief', 'State', 'Main Interest Type']]"
=======
    "WC_pd"
>>>>>>> b6cc74ea6b64ab87afa143fb9901fc3bcbcc982d
   ]
  },
  {
   "cell_type": "code",
   "execution_count": null,
   "metadata": {},
   "outputs": [],
   "source": [
<<<<<<< HEAD
    "def time_change(df):\n",
    "\n",
    "    sorted_states = ['al', 'ct', 'de', 'ga', \n",
    "                    'la', 'ma', 'md', 'me', \n",
    "                    'ms', 'nc', 'nh', 'nj', \n",
    "                    'ny', 'ri', 'sc', 'va']\n",
    "    \n",
    "    # Get df ready to become a percentage stacked bar chart\n",
    "    percent = df.groupby(['Start of Relief', 'State'])['Start of Relief'].count().unstack('State')/16*100\n",
    "    \n",
    "    # Sort df by income groups\n",
    "    percent.columns = pd.CategoricalIndex(percent.columns.values, \n",
    "                                     ordered=True, \n",
    "                                     categories=sorted_states)\n",
    "    percent = percent.sort_index(axis=1)\n",
    "    \n",
    "    # Plot\n",
    "    ax = percent.plot(kind='bar', stacked=True, \n",
    "                 title='Annual State Interest', \n",
    "                 figsize=(10,10), \n",
    "                 rot=0)\n",
    "    \n",
    "    plt.xlabel('Year')\n",
    "    plt.ylabel('Count')\n",
    "    plt.tick_params(left=False)\n",
    "    plt.legend(loc='upper right')\n",
    "    plt.axhline(20, color='white', alpha=0.25)\n",
    "    plt.axhline(40, color='white', alpha=0.25)\n",
    "    plt.axhline(60, color='white', alpha=0.25)\n",
    "    plt.axhline(80, color='white', alpha=0.25)\n",
    "    sns.despine(top=True, right=True)\n",
    "    \n",
    "    plt.show()"
=======
    "# Create values for Pie Chart\n",
    "wc_waste_cat = [\"Plastic Waste\", \"Foam Waste\", \"Fisherman's Waste\", \n",
    "            \"Smoking Waste Items\", \"Misc Food Waste Items\", \n",
    "             \"Miscellaneous Waste Items\"]\n",
    "wc_total_per_cat = [1901201, 548857, 86413, 1038712, 760881, 578788]\n",
    "wc_colors = [\"red\", \"orange\", \"pink\", \"violet\", \"yellow\", \"green\"]\n",
    "wc_explode = [0.1,0,0,0,0,0]\n",
    "\n",
    "# Create pie chart based on our values above\n",
    "plt.pie(wc_total_per_cat, explode=wc_explode, labels=wc_waste_cat, colors=wc_colors,\n",
    "       autopct=\"%1.1f%%\", shadow=True)\n",
    "plt.title(\"West Coast Pollutants\")\n",
    "plt.savefig(\"output_data/West_Coast_Pollutants_Chart.png\")"
>>>>>>> b6cc74ea6b64ab87afa143fb9901fc3bcbcc982d
   ]
  },
  {
   "cell_type": "code",
   "execution_count": null,
   "metadata": {},
   "outputs": [],
   "source": [
<<<<<<< HEAD
    "# Group dataset by State and Main Interest Type\n",
    "grouped = x.groupby(['State', 'Main Interest Type']).count().reset_index()\n",
    "\n",
    "# Pivot dataset\n",
    "g_pivot = grouped.pivot(index='Main Interest Type', columns='State', values='Start of Relief')\n",
    "g_pivot = g_pivot.fillna(0)\n",
    "\n",
    "\n",
    "plt.figure(figsize=(10,10))\n",
    "\n",
    "# Plot breakdown\n",
    "ax2 = plt.subplot(1,1,1)\n",
    "g_pivot.div(g_pivot.sum(axis=1), axis=0).plot.bar(stacked=True, width=0.9, ax=ax2)\n",
    "ax2.set_title('Annual State Interest', fontsize=15)\n",
    "ax2.set_xlabel('Main Interest')\n",
    "ax2.set_yticklabels(['0', '20%', '40%', '60%', '80%', '100%'])\n",
    "ax2.legend(loc='upper center', bbox_to_anchor=(1.05, 0.8), shadow=True, ncol=1)\n",
    "plt.xticks(fontsize=12)\n",
    "\n",
    "sns.despine(top=True, right=True)\n",
    "plt.tight_layout()\n"
=======
    "EC_pd"
>>>>>>> b6cc74ea6b64ab87afa143fb9901fc3bcbcc982d
   ]
  },
  {
   "cell_type": "code",
   "execution_count": null,
   "metadata": {},
   "outputs": [],
   "source": [
<<<<<<< HEAD
    "time_change(x)\n",
    "plt.savefig(\"output_data/State_Interest_perYear.png\")"
=======
    "# Create values for Pie Chart\n",
    "ec_waste_cat = [\"Plastic Waste\", \"Foam Waste\", \"Fisherman's Waste\", \n",
    "            \"Smoking Waste Items\", \"Misc Food Waste Items\", \n",
    "             \"Miscellaneous Waste Items\"]\n",
    "ec_total_per_cat = [5517029, 4083712, 319020, 2700617, 1805904, 1246293]\n",
    "ec_colors = [\"blue\", \"grey\", \"maroon\", \"lightpink\", \"silver\", \"gold\"]\n",
    "ec_explode = [0.1,0,0,0,0,0]\n",
    "\n",
    "# Create pie chart based on our values above\n",
    "plt.pie(ec_total_per_cat, explode=ec_explode, labels=ec_waste_cat, colors=ec_colors,\n",
    "       autopct=\"%1.1f%%\", shadow=True)\n",
    "plt.title(\"East Coast Pollutants\")\n",
    "plt.savefig(\"output_data/East_Coast_Pollutants_Chart.png\")"
>>>>>>> b6cc74ea6b64ab87afa143fb9901fc3bcbcc982d
   ]
  }
 ],
 "metadata": {
  "kernelspec": {
   "display_name": "Python 3",
   "language": "python",
   "name": "python3"
  },
  "language_info": {
   "codemirror_mode": {
    "name": "ipython",
    "version": 3
   },
   "file_extension": ".py",
   "mimetype": "text/x-python",
   "name": "python",
   "nbconvert_exporter": "python",
   "pygments_lexer": "ipython3",
   "version": "3.7.5"
  }
 },
 "nbformat": 4,
 "nbformat_minor": 2
}
